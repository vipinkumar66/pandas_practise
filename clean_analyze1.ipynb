{
 "cells": [
  {
   "cell_type": "code",
   "execution_count": 4,
   "metadata": {},
   "outputs": [
    {
     "name": "stdout",
     "output_type": "stream",
     "text": [
      "C:\\Users\\vipin\\python_projects\\data_analysis True\n"
     ]
    }
   ],
   "source": [
    "import pathlib\n",
    "import pandas as pd\n",
    "\n",
    "BASE_DIR = pathlib.Path().resolve().parent\n",
    "project_directory = BASE_DIR/\"pandas_deep_dive\"\n",
    "csv_directory = project_directory/\"csv_data\"\n",
    "\n",
    "print(BASE_DIR, csv_directory.exists())"
   ]
  },
  {
   "cell_type": "code",
   "execution_count": 6,
   "metadata": {},
   "outputs": [],
   "source": [
    "df = pd.read_csv(csv_directory/\"big_data.csv\")\n"
   ]
  },
  {
   "cell_type": "code",
   "execution_count": 14,
   "metadata": {},
   "outputs": [
    {
     "data": {
      "text/html": [
       "<div>\n",
       "<style scoped>\n",
       "    .dataframe tbody tr th:only-of-type {\n",
       "        vertical-align: middle;\n",
       "    }\n",
       "\n",
       "    .dataframe tbody tr th {\n",
       "        vertical-align: top;\n",
       "    }\n",
       "\n",
       "    .dataframe thead th {\n",
       "        text-align: right;\n",
       "    }\n",
       "</style>\n",
       "<table border=\"1\" class=\"dataframe\">\n",
       "  <thead>\n",
       "    <tr style=\"text-align: right;\">\n",
       "      <th></th>\n",
       "      <th>player</th>\n",
       "      <th>salary</th>\n",
       "      <th>adj_salary</th>\n",
       "      <th>year_start</th>\n",
       "      <th>year_end</th>\n",
       "      <th>date</th>\n",
       "      <th>inflation_rate_percent</th>\n",
       "      <th>multiplier</th>\n",
       "      <th>adj_salary_audit</th>\n",
       "      <th>audit_delta</th>\n",
       "      <th>sdj_Salary</th>\n",
       "    </tr>\n",
       "  </thead>\n",
       "  <tbody>\n",
       "    <tr>\n",
       "      <th>0</th>\n",
       "      <td>Patrick Ewing</td>\n",
       "      <td>4,250,000.00</td>\n",
       "      <td>8434466.0</td>\n",
       "      <td>1990</td>\n",
       "      <td>1991</td>\n",
       "      <td>1990-12-31</td>\n",
       "      <td>1.05398</td>\n",
       "      <td>1.98082</td>\n",
       "      <td>8.418487e+06</td>\n",
       "      <td>-15979.285442</td>\n",
       "      <td>8,434,466.00</td>\n",
       "    </tr>\n",
       "    <tr>\n",
       "      <th>1</th>\n",
       "      <td>Hot Rod Williams</td>\n",
       "      <td>3,785,000.00</td>\n",
       "      <td>7511636.0</td>\n",
       "      <td>1990</td>\n",
       "      <td>1991</td>\n",
       "      <td>1990-12-31</td>\n",
       "      <td>1.05398</td>\n",
       "      <td>1.98082</td>\n",
       "      <td>7.497405e+06</td>\n",
       "      <td>-14230.773035</td>\n",
       "      <td>7,511,636.00</td>\n",
       "    </tr>\n",
       "    <tr>\n",
       "      <th>2</th>\n",
       "      <td>Hakeem Olajuwon</td>\n",
       "      <td>3,175,000.00</td>\n",
       "      <td>6301042.0</td>\n",
       "      <td>1990</td>\n",
       "      <td>1991</td>\n",
       "      <td>1990-12-31</td>\n",
       "      <td>1.05398</td>\n",
       "      <td>1.98082</td>\n",
       "      <td>6.289105e+06</td>\n",
       "      <td>-11937.219124</td>\n",
       "      <td>6,301,042.00</td>\n",
       "    </tr>\n",
       "    <tr>\n",
       "      <th>3</th>\n",
       "      <td>Charles Barkley</td>\n",
       "      <td>2,900,000.00</td>\n",
       "      <td>5755283.0</td>\n",
       "      <td>1990</td>\n",
       "      <td>1991</td>\n",
       "      <td>1990-12-31</td>\n",
       "      <td>1.05398</td>\n",
       "      <td>1.98082</td>\n",
       "      <td>5.744379e+06</td>\n",
       "      <td>-10903.830066</td>\n",
       "      <td>5,755,283.00</td>\n",
       "    </tr>\n",
       "    <tr>\n",
       "      <th>4</th>\n",
       "      <td>Chris Mullin</td>\n",
       "      <td>2,850,000.00</td>\n",
       "      <td>5656054.0</td>\n",
       "      <td>1990</td>\n",
       "      <td>1991</td>\n",
       "      <td>1990-12-31</td>\n",
       "      <td>1.05398</td>\n",
       "      <td>1.98082</td>\n",
       "      <td>5.645338e+06</td>\n",
       "      <td>-10715.850237</td>\n",
       "      <td>5,656,054.00</td>\n",
       "    </tr>\n",
       "  </tbody>\n",
       "</table>\n",
       "</div>"
      ],
      "text/plain": [
       "             player        salary  adj_salary  year_start  year_end  \\\n",
       "0     Patrick Ewing  4,250,000.00   8434466.0        1990      1991   \n",
       "1  Hot Rod Williams  3,785,000.00   7511636.0        1990      1991   \n",
       "2   Hakeem Olajuwon  3,175,000.00   6301042.0        1990      1991   \n",
       "3   Charles Barkley  2,900,000.00   5755283.0        1990      1991   \n",
       "4      Chris Mullin  2,850,000.00   5656054.0        1990      1991   \n",
       "\n",
       "         date  inflation_rate_percent  multiplier  adj_salary_audit  \\\n",
       "0  1990-12-31                 1.05398     1.98082      8.418487e+06   \n",
       "1  1990-12-31                 1.05398     1.98082      7.497405e+06   \n",
       "2  1990-12-31                 1.05398     1.98082      6.289105e+06   \n",
       "3  1990-12-31                 1.05398     1.98082      5.744379e+06   \n",
       "4  1990-12-31                 1.05398     1.98082      5.645338e+06   \n",
       "\n",
       "    audit_delta    sdj_Salary  \n",
       "0 -15979.285442  8,434,466.00  \n",
       "1 -14230.773035  7,511,636.00  \n",
       "2 -11937.219124  6,301,042.00  \n",
       "3 -10903.830066  5,755,283.00  \n",
       "4 -10715.850237  5,656,054.00  "
      ]
     },
     "execution_count": 14,
     "metadata": {},
     "output_type": "execute_result"
    }
   ],
   "source": [
    "def cleaned_row(row):\n",
    "    row['salary'] = f\"{row['salary']:,.2f}\"\n",
    "    row['sdj_Salary'] = f\"{row['adj_salary']:,.2f}\"\n",
    "    \n",
    "    return row\n",
    "\n",
    "cleaned_data = df.copy().apply(cleaned_row, axis=1)\n",
    "cleaned_data.head()"
   ]
  },
  {
   "cell_type": "code",
   "execution_count": 21,
   "metadata": {},
   "outputs": [
    {
     "data": {
      "text/plain": [
       "<Axes: title={'center': '#Number of players'}, xlabel='year_start,year_end'>"
      ]
     },
     "execution_count": 21,
     "metadata": {},
     "output_type": "execute_result"
    },
    {
     "data": {
      "image/png": "[encoded data removed]",
      "text/plain": [
       "<Figure size 640x480 with 1 Axes>"
      ]
     },
     "metadata": {},
     "output_type": "display_data"
    }
   ],
   "source": [
    "grouped = df.groupby('year_start')['year_end'].value_counts()\n",
    "grouped.plot(title=\"#Number of players\")"
   ]
  },
  {
   "cell_type": "code",
   "execution_count": null,
   "metadata": {},
   "outputs": [],
   "source": []
  }
 ],
 "metadata": {
  "kernelspec": {
   "display_name": "venv",
   "language": "python",
   "name": "python3"
  },
  "language_info": {
   "codemirror_mode": {
    "name": "ipython",
    "version": 3
   },
   "file_extension": ".py",
   "mimetype": "text/x-python",
   "name": "python",
   "nbconvert_exporter": "python",
   "pygments_lexer": "ipython3",
   "version": "3.10.6"
  },
  "orig_nbformat": 4
 },
 "nbformat": 4,
 "nbformat_minor": 2
}
